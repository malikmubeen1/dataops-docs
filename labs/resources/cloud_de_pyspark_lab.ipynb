{
 "cells": [
  {
   "cell_type": "markdown",
   "metadata": {},
   "source": [
    "# PySpark 101\n",
    "\n",
    "## Learning Objectives\n",
    "- Learn what is Spark and what use cases it is good for\n",
    "- Learn the key components in Spark's high level architecture\n",
    "- Understand what a DAG is and it's relevance to Spark applications\n",
    "- Understand the difference between transformations and actions\n",
    "- Learn how to write spark transformations using spark's native functions and using spark sql"
   ]
  },
  {
   "cell_type": "markdown",
   "metadata": {},
   "source": [
    "## What is Spark? Why use it?\n",
    "Spark is a general purpose distributed data processing engine designed to scale to large data volumes. Spark distributes your data across multiple machines (called nodes) so that they can be processed in parallel. \n",
    "\n",
    "Spark advantages:\n",
    "- Speed\n",
    "- Spark applications can be written in Scala, Java, Python, R, or SQL\n"
   ]
  },
  {
   "attachments": {
    "spark_high_level_architecture.png": {
     "image/png": "[encoded data removed]"
    }
   },
   "cell_type": "markdown",
   "metadata": {},
   "source": [
    "# Spark High Level Architecture\n",
    "![spark_high_level_architecture.png](attachment:spark_high_level_architecture.png)"
   ]
  },
  {
   "cell_type": "markdown",
   "metadata": {},
   "source": [
    "# Key Concepts and Terminology\n",
    "\n",
    "### Spark Applications and Jobs\n",
    "\n",
    "In Spark, applications are executed as independent sets of processes that run on a cluster of machines (also referred to as \"nodes\"). There is a “driver” program that submits a user’s code to the Spark cluster and converts it into a set of multiple tasks. These tasks are submitted to \"executor\" processes that run on separate nodes in the Spark cluster. \n",
    "\n",
    "A Spark application is a user built program that consists of a driver and that driver’s associated executors. A Spark job is task or set of tasks to be executed with executor processes, as directed by the driver.\n",
    "\n",
    "Refer to the \"Cluster Mode Overview\" page in Spark's documentation for more details: https://spark.apache.org/docs/latest/cluster-overview.html\n",
    "  \n",
    "### RDD\n",
    "\n",
    "This is the core data abstraction and building block in Spark. It stands for Resilient Distributed Dataset. A RDD is merely an immutable collection of data that is distributed and stored either in memory or on disk across a cluster of machines. Each RDD keeps track of it's data lineage (data sources and transformations that it is dependent on) so that they can be recovered in case of failures.  \n",
    "    \n",
    "### Dataframe\n",
    "\n",
    "Dataframes are similar to RDDs in that they are also distributed collections of data but they differ in that they are organized into named columns (logically equivalent to a table in a relational database or a dataframe in pandas / R).  Spark uses the information of the data's structure to perform extra optimizations under the hood that greatly improve processing performance compared to RDDs. \n",
    "\n",
    "Refer to Spark SQL and Dataframes documentation page for more details: https://spark.apache.org/docs/latest/sql-programming-guide.html\n",
    "    \n",
    "\n",
    "### Transformations vs. Actions\n",
    "\n",
    "RDDs and Dataframes support two types of operations: transformations and actions. Transformations create new RDDs and Dataframes from existing ones and actions return a result or value back to the driver program from computations processed on the executors. Transformations are lazily evaluated - i.e. - they are only executed when a result needs to be materialized. Spark keeps track of all the transformations needed to materialize a given RDD or Dataframe and when an action like count(), show(), or write() is executed on that object, Spark then executes only the transformations needed to materialize the result.\n",
    "\n",
    "Refer to the sections \"Transformations\" and \"Actions\" on the RDD Programming guide for more details: https://spark.apache.org/docs/latest/rdd-programming-guide.html\n",
    "\n",
    "### Data Sources / Sinks\n",
    "\n",
    "Spark can read and write data from and to a variety of sources:\n",
    "\n",
    "- csv\n",
    "    - spark.read.csv()\n",
    "    - df.write.csv()\n",
    "- text\n",
    "    - spark.read.text()\n",
    "    - df.write.text()\n",
    "- json\n",
    "    - spark.read.json()\n",
    "    - df.write.json()\n",
    "- parquet\n",
    "    - spark.read.parquet()\n",
    "    - df.write.parquet()\n",
    "- avro\n",
    "    - spark.read.avro()\n",
    "    - df.write.avro()\n",
    "    \n",
    "See more here: https://spark.apache.org/docs/latest/sql-data-sources.html"
   ]
  },
  {
   "cell_type": "code",
   "execution_count": 2,
   "metadata": {},
   "outputs": [],
   "source": [
    "# Note: open this notebook in a \"conda_python3\" kernel\n",
    "import sagemaker_pyspark\n",
    "from pyspark.sql import SparkSession\n",
    "classpath = \":\".join(sagemaker_pyspark.classpath_jars())\n",
    "spark = (\n",
    "    SparkSession.builder\n",
    "    .config(\"spark.driver.extraClassPath\", classpath)\n",
    "    .config(\"fs.s3a.aws.credentials.provider\", \"org.apache.hadoop.fs.s3a.AnonymousAWSCredentialsProvider\")\n",
    ").getOrCreate()"
   ]
  },
  {
   "cell_type": "code",
   "execution_count": 2,
   "metadata": {},
   "outputs": [
    {
     "data": {
      "text/html": [
       "\n",
       "            <div>\n",
       "                <p><b>SparkSession - in-memory</b></p>\n",
       "                \n",
       "        <div>\n",
       "            <p><b>SparkContext</b></p>\n",
       "\n",
       "            <p><a href=\"http://ip-172-16-126-246.ec2.internal:4040\">Spark UI</a></p>\n",
       "\n",
       "            <dl>\n",
       "              <dt>Version</dt>\n",
       "                <dd><code>v2.3.4</code></dd>\n",
       "              <dt>Master</dt>\n",
       "                <dd><code>local[*]</code></dd>\n",
       "              <dt>AppName</dt>\n",
       "                <dd><code>pyspark-shell</code></dd>\n",
       "            </dl>\n",
       "        </div>\n",
       "        \n",
       "            </div>\n",
       "        "
      ],
      "text/plain": [
       "<pyspark.sql.session.SparkSession at 0x7f37fd462390>"
      ]
     },
     "execution_count": 2,
     "metadata": {},
     "output_type": "execute_result"
    }
   ],
   "source": [
    "# This is your Spark Session which is your entry point to the Spark application\n",
    "spark"
   ]
  },
  {
   "cell_type": "markdown",
   "metadata": {},
   "source": [
    "# Spark Transformation Examples\n",
    "Link to Documentation: https://spark.apache.org/docs/latest/api/python/pyspark.sql.html"
   ]
  },
  {
   "cell_type": "markdown",
   "metadata": {},
   "source": [
    "## Load dataset and create temporary spark table"
   ]
  },
  {
   "cell_type": "code",
   "execution_count": 3,
   "metadata": {},
   "outputs": [],
   "source": [
    "# Load dataframe\n",
    "df = spark.read.option(\"header\", \"True\").csv(\"s3a://covid19-lake/static-datasets/csv/countrycode/\")\n",
    "\n",
    "# Register dataframe as a temporary spark table so that we can use spark.sql\n",
    "df.createOrReplaceTempView(\"country_code_qs\")"
   ]
  },
  {
   "cell_type": "code",
   "execution_count": 4,
   "metadata": {},
   "outputs": [
    {
     "name": "stdout",
     "output_type": "stream",
     "text": [
      "root\n",
      " |-- Country: string (nullable = true)\n",
      " |-- Alpha-2 code: string (nullable = true)\n",
      " |-- Alpha-3 code: string (nullable = true)\n",
      " |-- Numeric code: string (nullable = true)\n",
      " |-- Latitude: string (nullable = true)\n",
      " |-- Longitude: string (nullable = true)\n",
      "\n"
     ]
    }
   ],
   "source": [
    "# check schema of dataset\n",
    "df.printSchema()"
   ]
  },
  {
   "cell_type": "code",
   "execution_count": 5,
   "metadata": {},
   "outputs": [
    {
     "data": {
      "text/plain": [
       "256"
      ]
     },
     "execution_count": 5,
     "metadata": {},
     "output_type": "execute_result"
    }
   ],
   "source": [
    "# print number of records in dataset\n",
    "df.count()"
   ]
  },
  {
   "cell_type": "markdown",
   "metadata": {},
   "source": [
    "## Select subset of columns from dataset"
   ]
  },
  {
   "cell_type": "code",
   "execution_count": 6,
   "metadata": {},
   "outputs": [],
   "source": [
    "# create a new dataframe with a subset of columns\n",
    "\n",
    "# using native spark transformations\n",
    "subset_df_native = df.select(\"Country\", \"Latitude\", \"Longitude\")\n",
    "\n",
    "# using spark sql \n",
    "subset_df_sql = spark.sql(\"select Country, Latitude, Longitude from country_code_qs\")\n",
    "\n",
    "# uncomment to print first 20 rows of the newly created dataframes - notice the difference in execution time (show() is an action)\n",
    "# subset_df_native.show()\n",
    "# subset_df_sql.show()"
   ]
  },
  {
   "cell_type": "markdown",
   "metadata": {},
   "source": [
    "## Select distinct values "
   ]
  },
  {
   "cell_type": "code",
   "execution_count": 7,
   "metadata": {},
   "outputs": [],
   "source": [
    "# create a new dataframe with the distinct list of countries\n",
    "\n",
    "# using native spark transformations\n",
    "distinct_countries_native = df.select(\"Country\").distinct()\n",
    "\n",
    "# using spark sql\n",
    "distinct_countries_sql = spark.sql(\"select distinct Country from country_code_qs\")\n",
    "\n",
    "# uncomment to print first 20 rows of the newly created dataframes\n",
    "# distinct_countries_native.show()\n",
    "# distinct_countries_sql.show()"
   ]
  },
  {
   "cell_type": "markdown",
   "metadata": {},
   "source": [
    "## Filter dataset"
   ]
  },
  {
   "cell_type": "code",
   "execution_count": 8,
   "metadata": {},
   "outputs": [],
   "source": [
    "# create a new dataframe that only has entries for China\n",
    "\n",
    "# using native spark transformations\n",
    "china_df_native = df.where(\"Country = 'China'\")\n",
    "\n",
    "# using spark sql\n",
    "china_df_sql = spark.sql(\"select * from country_code_qs where Country = 'China'\")\n",
    "\n",
    "# uncomment to print first 20 rows of the newly created dataframes\n",
    "# china_df_native.show()\n",
    "# china_df_sql.show()"
   ]
  },
  {
   "cell_type": "markdown",
   "metadata": {},
   "source": [
    "## Group By, Aggregate, and Order By"
   ]
  },
  {
   "cell_type": "code",
   "execution_count": 10,
   "metadata": {},
   "outputs": [
    {
     "name": "stdout",
     "output_type": "stream",
     "text": [
      "+--------------------+-------------+\n",
      "|             Country|country_count|\n",
      "+--------------------+-------------+\n",
      "|       Côte d'Ivoire|            1|\n",
      "|                Chad|            1|\n",
      "|            Anguilla|            1|\n",
      "|            Paraguay|            1|\n",
      "|              Russia|            1|\n",
      "|               Macao|            1|\n",
      "|British Indian Oc...|            1|\n",
      "|               Yemen|            1|\n",
      "|Heard Island and ...|            1|\n",
      "|Congo, the Democr...|            1|\n",
      "|             Senegal|            1|\n",
      "|French Southern T...|            1|\n",
      "|            Kiribati|            1|\n",
      "|              Sweden|            1|\n",
      "|             Tokelau|            1|\n",
      "|              Guyana|            1|\n",
      "|Svalbard and Jan ...|            1|\n",
      "|             Eritrea|            1|\n",
      "|              Jersey|            1|\n",
      "|               Burma|            1|\n",
      "+--------------------+-------------+\n",
      "only showing top 20 rows\n",
      "\n"
     ]
    }
   ],
   "source": [
    "# create a new dataframe that has the count per country ordered by count ascending\n",
    "\n",
    "# using native spark transformations\n",
    "from pyspark.sql import functions as f\n",
    "country_count_df_native = df.groupby(\"Country\").agg(f.count(f.lit(1)).alias(\"country_count\")).orderBy(\"country_count\")\n",
    "\n",
    "# using spark sql\n",
    "sql_query = \"\"\"select Country, count(1) as country_count \n",
    "               from country_code_qs \n",
    "               group by Country \n",
    "               order by country_count\"\"\"\n",
    "country_count_df_sql = spark.sql(sql_query)\n",
    "\n",
    "# uncomment to print first 20 rows of the newly created dataframes\n",
    "# country_count_df_native.show()\n",
    "# country_count_df_sql.show()"
   ]
  },
  {
   "cell_type": "markdown",
   "metadata": {},
   "source": [
    "## Joins"
   ]
  },
  {
   "cell_type": "code",
   "execution_count": 11,
   "metadata": {},
   "outputs": [],
   "source": [
    "# join example\n",
    "\n",
    "# load county population dataset\n",
    "county_pop_df = spark.read.option(\"header\", \"True\").csv(\"s3a://covid19-lake/static-datasets/csv/CountyPopulation/\")\n",
    "\n",
    "# load states abbreviation dataset\n",
    "state_abv_df = spark.read.option(\"header\", \"True\").csv(\"s3a://covid19-lake/static-datasets/csv/state-abv/\")\n",
    "\n",
    "# register dataframes as temporary spark tables so that we can use spark sql\n",
    "county_pop_df.createOrReplaceTempView(\"county_pop\")\n",
    "state_abv_df.createOrReplaceTempView(\"state_abv\")"
   ]
  },
  {
   "cell_type": "code",
   "execution_count": 12,
   "metadata": {},
   "outputs": [
    {
     "name": "stdout",
     "output_type": "stream",
     "text": [
      "root\n",
      " |-- Id: string (nullable = true)\n",
      " |-- Id2: string (nullable = true)\n",
      " |-- County: string (nullable = true)\n",
      " |-- State: string (nullable = true)\n",
      " |-- Population Estimate 2018: string (nullable = true)\n",
      "\n",
      "root\n",
      " |-- State: string (nullable = true)\n",
      " |-- Abbreviation: string (nullable = true)\n",
      "\n"
     ]
    }
   ],
   "source": [
    "# check schemas of datasets\n",
    "\n",
    "county_pop_df.printSchema()\n",
    "state_abv_df.printSchema()"
   ]
  },
  {
   "cell_type": "code",
   "execution_count": 14,
   "metadata": {},
   "outputs": [
    {
     "name": "stdout",
     "output_type": "stream",
     "text": [
      "+--------------+----+---------+-------+------------------------+-------+------------+\n",
      "|            Id| Id2|   County|  State|Population Estimate 2018|  State|Abbreviation|\n",
      "+--------------+----+---------+-------+------------------------+-------+------------+\n",
      "|0500000US01001|1001|  Autauga|Alabama|                   55601|Alabama|          AL|\n",
      "|0500000US01003|1003|  Baldwin|Alabama|                  218022|Alabama|          AL|\n",
      "|0500000US01005|1005|  Barbour|Alabama|                   24881|Alabama|          AL|\n",
      "|0500000US01007|1007|     Bibb|Alabama|                   22400|Alabama|          AL|\n",
      "|0500000US01009|1009|   Blount|Alabama|                   57840|Alabama|          AL|\n",
      "|0500000US01011|1011|  Bullock|Alabama|                   10138|Alabama|          AL|\n",
      "|0500000US01013|1013|   Butler|Alabama|                   19680|Alabama|          AL|\n",
      "|0500000US01015|1015|  Calhoun|Alabama|                  114277|Alabama|          AL|\n",
      "|0500000US01017|1017| Chambers|Alabama|                   33615|Alabama|          AL|\n",
      "|0500000US01019|1019| Cherokee|Alabama|                   26032|Alabama|          AL|\n",
      "|0500000US01021|1021|  Chilton|Alabama|                   44153|Alabama|          AL|\n",
      "|0500000US01023|1023|  Choctaw|Alabama|                   12841|Alabama|          AL|\n",
      "|0500000US01025|1025|   Clarke|Alabama|                   23920|Alabama|          AL|\n",
      "|0500000US01027|1027|     Clay|Alabama|                   13275|Alabama|          AL|\n",
      "|0500000US01029|1029| Cleburne|Alabama|                   14987|Alabama|          AL|\n",
      "|0500000US01031|1031|   Coffee|Alabama|                   51909|Alabama|          AL|\n",
      "|0500000US01033|1033|  Colbert|Alabama|                   54762|Alabama|          AL|\n",
      "|0500000US01035|1035|  Conecuh|Alabama|                   12277|Alabama|          AL|\n",
      "|0500000US01037|1037|    Coosa|Alabama|                   10715|Alabama|          AL|\n",
      "|0500000US01039|1039|Covington|Alabama|                   36986|Alabama|          AL|\n",
      "+--------------+----+---------+-------+------------------------+-------+------------+\n",
      "only showing top 20 rows\n",
      "\n"
     ]
    }
   ],
   "source": [
    "# (inner) join datasets by State\n",
    "\n",
    "# using native spark transformations\n",
    "joined_df_native = county_pop_df.join(state_abv_df, county_pop_df['State'] == county_pop_df['State'], how='inner')\n",
    "\n",
    "# using spark sql\n",
    "joined_df_sql = spark.sql(\"select * from county_pop a inner join state_abv b on a.State = b.State\")\n",
    "\n",
    "# uncomment to print first 20 rows of the newly created dataframes\n",
    "# joined_df_native.show()\n",
    "# joined_df_sql.show()"
   ]
  },
  {
   "cell_type": "markdown",
   "metadata": {},
   "source": [
    "# Hands On Exercises"
   ]
  },
  {
   "cell_type": "code",
   "execution_count": 32,
   "metadata": {},
   "outputs": [],
   "source": [
    "# Load datasets\n",
    "county_pop_df = spark.read.option(\"header\", \"True\").csv(\"s3a://covid19-lake/static-datasets/csv/CountyPopulation/\")\n",
    "state_abv_df = spark.read.option(\"header\", \"True\").csv(\"s3a://covid19-lake/static-datasets/csv/state-abv/\")\n",
    "testing_data_df = spark.read.option(\"header\", \"True\").csv(\"s3a://covid19-lake/rearc-covid-19-testing-data/csv/states_daily/\")\n",
    "\n",
    "# Register as temporary tables\n",
    "county_pop_df.createOrReplaceTempView(\"county_pop\")\n",
    "state_abv_df.createOrReplaceTempView(\"state_abv\")\n",
    "testing_data_df.createOrReplaceTempView(\"testing_data\")"
   ]
  },
  {
   "cell_type": "code",
   "execution_count": 33,
   "metadata": {},
   "outputs": [
    {
     "name": "stdout",
     "output_type": "stream",
     "text": [
      "root\n",
      " |-- Id: string (nullable = true)\n",
      " |-- Id2: string (nullable = true)\n",
      " |-- County: string (nullable = true)\n",
      " |-- State: string (nullable = true)\n",
      " |-- Population Estimate 2018: string (nullable = true)\n",
      "\n",
      "root\n",
      " |-- State: string (nullable = true)\n",
      " |-- Abbreviation: string (nullable = true)\n",
      "\n",
      "root\n",
      " |-- date: string (nullable = true)\n",
      " |-- state: string (nullable = true)\n",
      " |-- positive: string (nullable = true)\n",
      " |-- negative: string (nullable = true)\n",
      " |-- pending: string (nullable = true)\n",
      " |-- hospitalizedCurrently: string (nullable = true)\n",
      " |-- hospitalizedCumulative: string (nullable = true)\n",
      " |-- inIcuCurrently: string (nullable = true)\n",
      " |-- inIcuCumulative: string (nullable = true)\n",
      " |-- onVentilatorCurrently: string (nullable = true)\n",
      " |-- onVentilatorCumulative: string (nullable = true)\n",
      " |-- recovered: string (nullable = true)\n",
      " |-- hash: string (nullable = true)\n",
      " |-- dateChecked: string (nullable = true)\n",
      " |-- death: string (nullable = true)\n",
      " |-- hospitalized: string (nullable = true)\n",
      " |-- total: string (nullable = true)\n",
      " |-- totalTestResults: string (nullable = true)\n",
      " |-- posNeg: string (nullable = true)\n",
      " |-- fips: string (nullable = true)\n",
      " |-- deathIncrease: string (nullable = true)\n",
      " |-- hospitalizedIncrease: string (nullable = true)\n",
      " |-- negativeIncrease: string (nullable = true)\n",
      " |-- positiveIncrease: string (nullable = true)\n",
      " |-- totalTestResultsIncrease: string (nullable = true)\n",
      "\n"
     ]
    }
   ],
   "source": [
    "# Inspect schemas of datasets\n",
    "county_pop_df.printSchema()\n",
    "state_abv_df.printSchema()\n",
    "testing_data_df.printSchema()"
   ]
  },
  {
   "cell_type": "code",
   "execution_count": 40,
   "metadata": {},
   "outputs": [],
   "source": [
    "# Create a dataframe with only the County, State, and Population columns from county_pop_df and print first 20 rows\n",
    "\n",
    "# Your code here:\n"
   ]
  },
  {
   "cell_type": "code",
   "execution_count": 39,
   "metadata": {},
   "outputs": [],
   "source": [
    "# Create a dataframe with the total population estimate per State from county_pop_df and print first 20 rows\n",
    "# hint: use \"Population Estimate 2018\" - to reference this column in spark.sql use tick marks (`) since this column name contains spaces\n",
    "#    - i.e. - spark.sql(\"select `Population Estimate 2018` from county_pop\")\n",
    "\n",
    "# Your code here:\n"
   ]
  },
  {
   "cell_type": "code",
   "execution_count": 38,
   "metadata": {},
   "outputs": [],
   "source": [
    "# Create the same dataframe above but replace State with its abbreviation by joining to state_abv_df and print first 20 rows\n",
    "\n",
    "# Your code here:\n"
   ]
  },
  {
   "cell_type": "code",
   "execution_count": 50,
   "metadata": {},
   "outputs": [],
   "source": [
    "# Print number of distinct dates in testing_data_df\n",
    "\n",
    "# Your code here:\n"
   ]
  },
  {
   "cell_type": "code",
   "execution_count": null,
   "metadata": {},
   "outputs": [],
   "source": [
    "# Print number of records in testing_data_df for month of April\n",
    "\n",
    "# Your code here:\n"
   ]
  },
  {
   "cell_type": "code",
   "execution_count": null,
   "metadata": {},
   "outputs": [],
   "source": [
    "# Create a dataframe with the sum of total tests* by state abbreviation for the month of April and print first 20 rows\n",
    "# * use \"total\" from testing_data_df\n",
    "\n",
    "# Your code here:"
   ]
  },
  {
   "cell_type": "code",
   "execution_count": 55,
   "metadata": {},
   "outputs": [],
   "source": [
    "# Create a dataframe with the following columns:\n",
    "#    date,\n",
    "#    percentage of positives tests,\n",
    "#    percentage of negative tests\n",
    "\n",
    "# Your code here:\n"
   ]
  },
  {
   "cell_type": "code",
   "execution_count": 56,
   "metadata": {},
   "outputs": [],
   "source": [
    "# Create a dataframe with the following columns: \n",
    "#    date, \n",
    "#    state abbreviation, \n",
    "#    total tests as a percentage of the state's population* \n",
    "#    total deaths as a percentage of the state's population*\n",
    "#\n",
    "# * hint: use \"total\" and \"deaths\" from testing_data_df and \"Population Estimate 2018\" from county_pop_df\n",
    "\n",
    "\n",
    "# Your code here:\n"
   ]
  }
 ],
 "metadata": {
  "kernelspec": {
   "display_name": "conda_python3",
   "language": "python",
   "name": "conda_python3"
  },
  "language_info": {
   "codemirror_mode": {
    "name": "ipython",
    "version": 3
   },
   "file_extension": ".py",
   "mimetype": "text/x-python",
   "name": "python",
   "nbconvert_exporter": "python",
   "pygments_lexer": "ipython3",
   "version": "3.6.5"
  }
 },
 "nbformat": 4,
 "nbformat_minor": 4
}
